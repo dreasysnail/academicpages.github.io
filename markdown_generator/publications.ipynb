{
 "cells": [
  {
   "cell_type": "markdown",
   "metadata": {
    "deletable": true,
    "editable": true
   },
   "source": [
    "# Publications markdown generator for academicpages\n",
    "\n",
    "Takes a TSV of publications with metadata and converts them for use with [academicpages.github.io](academicpages.github.io). This is an interactive Jupyter notebook ([see more info here](http://jupyter-notebook-beginner-guide.readthedocs.io/en/latest/what_is_jupyter.html)). The core python code is also in `publications.py`. Run either from the `markdown_generator` folder after replacing `publications.tsv` with one containing your data.\n",
    "\n",
    "TODO: Make this work with BibTex and other databases of citations, rather than Stuart's non-standard TSV format and citation style.\n"
   ]
  },
  {
   "cell_type": "markdown",
   "metadata": {},
   "source": [
    "## Data format\n",
    "\n",
    "The TSV needs to have the following columns: pub_date, title, venue, excerpt, citation, site_url, and paper_url, with a header at the top. \n",
    "\n",
    "- `excerpt` and `paper_url` can be blank, but the others must have values. \n",
    "- `pub_date` must be formatted as YYYY-MM-DD.\n",
    "- `url_slug` will be the descriptive part of the .md file and the permalink URL for the page about the paper. The .md file will be `YYYY-MM-DD-[url_slug].md` and the permalink will be `https://[yourdomain]/publications/YYYY-MM-DD-[url_slug]`\n",
    "\n",
    "This is how the raw file looks (it doesn't look pretty, use a spreadsheet or other program to edit and create)."
   ]
  },
  {
   "cell_type": "code",
   "execution_count": null,
   "metadata": {
    "collapsed": false,
    "tags": []
   },
   "outputs": [],
   "source": [
    "!cat publications.tsv"
   ]
  },
  {
   "cell_type": "markdown",
   "metadata": {},
   "source": [
    "## Import pandas\n",
    "\n",
    "We are using the very handy pandas library for dataframes."
   ]
  },
  {
   "cell_type": "code",
   "execution_count": 2,
   "metadata": {
    "collapsed": true,
    "deletable": true,
    "editable": true
   },
   "outputs": [],
   "source": [
    "import pandas as pd"
   ]
  },
  {
   "cell_type": "markdown",
   "metadata": {},
   "source": [
    "## Import TSV\n",
    "\n",
    "Pandas makes this easy with the read_csv function. We are using a TSV, so we specify the separator as a tab, or `\\t`.\n",
    "\n",
    "I found it important to put this data in a tab-separated values format, because there are a lot of commas in this kind of data and comma-separated values can get messed up. However, you can modify the import statement, as pandas also has read_excel(), read_json(), and others."
   ]
  },
  {
   "cell_type": "code",
   "execution_count": 3,
   "metadata": {
    "collapsed": false,
    "deletable": true,
    "editable": true
   },
   "outputs": [
    {
     "output_type": "execute_result",
     "data": {
      "text/html": "<div>\n<style scoped>\n    .dataframe tbody tr th:only-of-type {\n        vertical-align: middle;\n    }\n\n    .dataframe tbody tr th {\n        vertical-align: top;\n    }\n\n    .dataframe thead th {\n        text-align: right;\n    }\n</style>\n<table border=\"1\" class=\"dataframe\">\n  <thead>\n    <tr style=\"text-align: right;\">\n      <th></th>\n      <th>pub_date</th>\n      <th>title</th>\n      <th>venue</th>\n      <th>citation</th>\n      <th>paper_url</th>\n      <th>code_url</th>\n    </tr>\n  </thead>\n  <tbody>\n    <tr>\n      <th>0</th>\n      <td>2012-10-01</td>\n      <td>Composition-based Classification of Short Meta...</td>\n      <td>Nucleic Acids Research</td>\n      <td>Jiemeng Liu, Haifeng Wang, Hongxing Yang, ...</td>\n      <td>http://www.ncbi.nlm.nih.gov/pubmed/22941634</td>\n      <td>http://metacv.sourceforge.net</td>\n    </tr>\n    <tr>\n      <th>1</th>\n      <td>2012-10-01</td>\n      <td>CRF-based Transcription Factor Binding Site Fi...</td>\n      <td>BMC Genomics</td>\n      <td>Yupeng He, *Yizhe Zhang*, Guangyong Zheng ...</td>\n      <td>http://www.biomedcentral.com/1471-2164/13/S8/S18/</td>\n      <td>http://cbb.sjtu.edu.cn/~ccwei/pub/software/CTF...</td>\n    </tr>\n    <tr>\n      <th>2</th>\n      <td>2015-10-01</td>\n      <td>MOST+: a Motif Finding Approach Combining Geno...</td>\n      <td>BMC Genomics</td>\n      <td>*Yizhe Zhang*, Yupeng He and Chaochun Wei</td>\n      <td>http://cbb.sjtu.edu.cn/~ccwei/pub/software/MOS...</td>\n      <td>http://cbb.sjtu.edu.cn/~ccwei/pub/software/MOS...</td>\n    </tr>\n    <tr>\n      <th>3</th>\n      <td>2015-10-01</td>\n      <td>Learning Dictionary with Spatial and Inter-dic...</td>\n      <td>Workshop on representation learning, NIPS</td>\n      <td>*Yizhe Zhang*, Ricardo Henao, Chunyuan Li,...</td>\n      <td>./pdf/nips2015.pdf</td>\n      <td>NONE</td>\n    </tr>\n    <tr>\n      <th>4</th>\n      <td>2016-10-01</td>\n      <td>Laplacian Hamiltonian Monte Carlo</td>\n      <td>ECML</td>\n      <td>*Yizhe Zhang*, Changyou Chen, Ricardo Hena...</td>\n      <td>https://dl.acm.org/doi/10.1007/978-3-319-46128...</td>\n      <td>NONE</td>\n    </tr>\n    <tr>\n      <th>5</th>\n      <td>2016-10-01</td>\n      <td>Dynamic Poisson Factor Analysis</td>\n      <td>ICDM</td>\n      <td>*Yizhe Zhang*, Changyou Chen, Ricardo Hena...</td>\n      <td>./pdf/dynpfa_icdm.pdf</td>\n      <td>./files/dpfa_release.zip</td>\n    </tr>\n    <tr>\n      <th>6</th>\n      <td>2016-10-01</td>\n      <td>Triply Stochastic Variational Inference for No...</td>\n      <td>ICDM</td>\n      <td>Kai Fan, *Yizhe Zhang*, Lawrence Carin, Ka...</td>\n      <td>./pdf/VSAE.pdf</td>\n      <td>./files/dpfa_release.zip</td>\n    </tr>\n    <tr>\n      <th>7</th>\n      <td>2016-10-01</td>\n      <td>Bayesian Dictionary Learning with Gaussian Pro...</td>\n      <td>IJCAI</td>\n      <td>*Yizhe Zhang*, Ricardo Henao, Chunyuan Li,...</td>\n      <td>./pdf/VSAE.pdf</td>\n      <td>./files/gpfa.zip</td>\n    </tr>\n    <tr>\n      <th>8</th>\n      <td>2016-10-01</td>\n      <td>Learning a Hybrid Architecture for Sequence Re...</td>\n      <td>AAAI</td>\n      <td>*Yizhe Zhang*, Ricardo Henao, Jianling Zho...</td>\n      <td>./pdf/AAAI_2016_zhang.pdf</td>\n      <td>./pdf/AAAI_suppl.zip</td>\n    </tr>\n    <tr>\n      <th>9</th>\n      <td>2016-10-01</td>\n      <td>Generating Text via Adversarial Training.</td>\n      <td>Workshop on Adversarial Training, NIPS</td>\n      <td>*Yizhe Zhang*, Zhe Gan, Lawrence Carin</td>\n      <td>./pdf/AAAI_2016_zhang.pdf</td>\n      <td>NONE</td>\n    </tr>\n    <tr>\n      <th>10</th>\n      <td>2016-10-01</td>\n      <td>Stochastic Gradient MCMC with Stale Gradients.</td>\n      <td>NIPS</td>\n      <td>Changyou Chen, Nan Ding, Chunyuan Li, *Yiz...</td>\n      <td>https://arxiv.org/abs/1610.06664</td>\n      <td>https://github.com/cchangyou/S2G-MCMC</td>\n    </tr>\n    <tr>\n      <th>11</th>\n      <td>2016-10-01</td>\n      <td>Towards Unifying Hamiltonian Monte Carlo and S...</td>\n      <td>NIPS</td>\n      <td>*Yizhe Zhang*, Xiangyu Wang, Changyou Chen...</td>\n      <td>http://papers.nips.cc/paper/6147-towards-unify...</td>\n      <td>https://github.com/dreasysnail/MGHMC</td>\n    </tr>\n    <tr>\n      <th>12</th>\n      <td>2017-10-01</td>\n      <td>Adversarial Feature Matching for Text Generation.</td>\n      <td>ICML</td>\n      <td>*Yizhe Zhang*, Zhe Gan, Kai Fan, Zhi Chen...</td>\n      <td>https://arxiv.org/abs/1706.03850</td>\n      <td>https://github.com/dreasysnail/textGAN_public</td>\n    </tr>\n    <tr>\n      <th>13</th>\n      <td>2017-10-01</td>\n      <td>Stochastic Gradient Monomial Gamma Sampler.</td>\n      <td>ICML</td>\n      <td>*Yizhe Zhang*, Changyou Chen, Zhe Gan, Ri...</td>\n      <td>https://arxiv.org/abs/1706.01498</td>\n      <td>https://github.com/dreasysnail/SGMGT</td>\n    </tr>\n    <tr>\n      <th>14</th>\n      <td>2017-10-01</td>\n      <td>Triangle Generative Adversarial Networks.</td>\n      <td>NIPS</td>\n      <td>Zhe Gan, Liqun Chen, Weiyao Wang, Yunchen...</td>\n      <td>https://arxiv.org/abs/1709.06548</td>\n      <td>https://github.com/LiqunChen0606/Triangle-GAN</td>\n    </tr>\n    <tr>\n      <th>15</th>\n      <td>2017-10-01</td>\n      <td>Deconvolutional Paragraph Representation Learn...</td>\n      <td>NIPS</td>\n      <td>*Yizhe Zhang*, Dinghan Shen, Guoyin Wang,...</td>\n      <td>https://arxiv.org/abs/1708.04729</td>\n      <td>https://github.com/dreasysnail/textCNN_public</td>\n    </tr>\n    <tr>\n      <th>16</th>\n      <td>2018-10-01</td>\n      <td>Zero-Shot Learning via Class-Conditioned Deep ...</td>\n      <td>AAAI</td>\n      <td>Wenlin Wang, Yunchen Pu, Vinay Kumar Verm...</td>\n      <td>https://arxiv.org/abs/1711.05820</td>\n      <td>NONE</td>\n    </tr>\n    <tr>\n      <th>17</th>\n      <td>2018-10-01</td>\n      <td>Deconvolutional Latent-Variable Model for Text...</td>\n      <td>AAAI</td>\n      <td>Dinghan Shen, *Yizhe Zhang*, Ricardo Hena...</td>\n      <td>https://arxiv.org/abs/1709.07109</td>\n      <td>NONE</td>\n    </tr>\n    <tr>\n      <th>18</th>\n      <td>2018-10-01</td>\n      <td>Joint Embedding of Words and Labels for Text C...</td>\n      <td>ACL</td>\n      <td>Guoyin Wang, Chunyuan Li, Wenlin Wang, *Y...</td>\n      <td>https://arxiv.org/abs/1805.04174</td>\n      <td>https://github.com/guoyinwang/LEAM</td>\n    </tr>\n    <tr>\n      <th>19</th>\n      <td>2018-10-01</td>\n      <td>On Simple Word-Embedding-Based Models and Asso...</td>\n      <td>ACL</td>\n      <td>Dinghan Shen, Guoyin Wang, Wenlin Wang, M...</td>\n      <td>https://arxiv.org/abs/1805.09843</td>\n      <td>https://github.com/dinghanshen/SWEM</td>\n    </tr>\n    <tr>\n      <th>20</th>\n      <td>2018-10-01</td>\n      <td>Multi-Domain Joint Distribution Learning with ...</td>\n      <td>ICML</td>\n      <td>Yunchen Pu, Shuyang Dai, Zhe Gan, Weiyao ...</td>\n      <td>https://arxiv.org/abs/1806.02978</td>\n      <td>https://zhegan27.github.io/Papers/JointGAN_sli...</td>\n    </tr>\n    <tr>\n      <th>21</th>\n      <td>2018-10-01</td>\n      <td>Adversarial Text Generation via Feature-Mover'...</td>\n      <td>NIPS</td>\n      <td>Liqun Chen, Shuyang Dai, Chenyang Tao, Di...</td>\n      <td>https://arxiv.org/abs/1809.06297</td>\n      <td>NONE</td>\n    </tr>\n    <tr>\n      <th>22</th>\n      <td>2018-10-01</td>\n      <td>Generating Informative and Diverse Conversatio...</td>\n      <td>NIPS</td>\n      <td>*Yizhe Zhang*, Michel Galley, Jianfeng Ga...</td>\n      <td>https://arxiv.org/abs/1809.05972</td>\n      <td>https://github.com/dreasysnail/converse_GAN</td>\n    </tr>\n    <tr>\n      <th>23</th>\n      <td>2019-10-01</td>\n      <td>Improving Sequence-to-Sequence Learning via Op...</td>\n      <td>ICLR</td>\n      <td>Liqun Chen, *Yizhe Zhang*, Ruiyi Zhang, C...</td>\n      <td>https://openreview.net/forum?id=S1xtAjR5tX</td>\n      <td>https://github.com/LiqunChen0606/OT-Seq2Seq</td>\n    </tr>\n    <tr>\n      <th>24</th>\n      <td>2019-10-01</td>\n      <td>Improving Sequence-to-SequeJointly Optimizing ...</td>\n      <td>NAACL</td>\n      <td>Xiang Gao, Sungjin Lee, *Yizhe Zhang*, Ch...</td>\n      <td>https://arxiv.org/abs/1902.11205</td>\n      <td>https://github.com/golsun/SpaceFusion</td>\n    </tr>\n    <tr>\n      <th>25</th>\n      <td>2019-10-01</td>\n      <td>Towards Generating Long and Coherent Text with...</td>\n      <td>ACL</td>\n      <td>Dinghan Shen, Asli Celikyilmaz, *Yizhe Zh...</td>\n      <td>https://arxiv.org/abs/1902.00154</td>\n      <td>NONE</td>\n    </tr>\n    <tr>\n      <th>26</th>\n      <td>2019-10-01</td>\n      <td>Improving Textual Network Embedding with Globa...</td>\n      <td>ACL</td>\n      <td>Liqun Chen, Guoyin Wang, Chenyang Tao, Di...</td>\n      <td>https://arxiv.org/abs/1906.01840</td>\n      <td>NONE</td>\n    </tr>\n    <tr>\n      <th>27</th>\n      <td>2019-10-01</td>\n      <td>Microsoft ICECAPS: An Open-Source Toolkit for ...</td>\n      <td>system demonstration, ACL</td>\n      <td>Vighnesh Leonardo Shiv, Chris Quirk, Ansh...</td>\n      <td>https://www.aclweb.org/anthology/P19-3021.pdf</td>\n      <td>https://github.com/microsoft/icecaps</td>\n    </tr>\n    <tr>\n      <th>28</th>\n      <td>2019-10-01</td>\n      <td>Self-Enhanced Inverse Reinforcement Learning f...</td>\n      <td>Imitation, Intent, and Interaction(I3), ICML</td>\n      <td>Ping Yu, Ruiyi Zhang, Chunyuan Li, *Yizhe...</td>\n      <td>https://drive.google.com/drive/folders/1Akd-zS...</td>\n      <td>NONE</td>\n    </tr>\n    <tr>\n      <th>29</th>\n      <td>2019-10-01</td>\n      <td>Unsupervised Dialogue Spectrum Generation for ...</td>\n      <td>SIGDIAL(*Best paper nomination*)</td>\n      <td>Xinnuo Xu, *Yizhe Zhang*, Lars Liden and ...</td>\n      <td>https://www.aclweb.org/anthology/W19-5919.pdf</td>\n      <td>NONE</td>\n    </tr>\n    <tr>\n      <th>30</th>\n      <td>2019-10-01</td>\n      <td>Towards coherent and cohesive long-form text g...</td>\n      <td>Workshop on Narrative Understanding, NAACL</td>\n      <td>Woon Sang Cho, Pengchuan Zhang, *Yizhe Zh...</td>\n      <td>https://www.aclweb.org/anthology/W19-2401/</td>\n      <td>NONE</td>\n    </tr>\n    <tr>\n      <th>31</th>\n      <td>2019-10-01</td>\n      <td>Generating a Common Question from Multiple Doc...</td>\n      <td>WNGT, EMNLP</td>\n      <td>Woon Sang Cho, *Yizhe Zhang*, Sudha Rao, ...</td>\n      <td>https://www.aclweb.org/anthology/D19-5604/</td>\n      <td>NONE</td>\n    </tr>\n    <tr>\n      <th>32</th>\n      <td>2019-10-01</td>\n      <td>Domain Adaptive Text Style Transfer.</td>\n      <td>EMNLP</td>\n      <td>Dianqi Li, *Yizhe Zhang*, Zhe Gan, Yu Che...</td>\n      <td>https://arxiv.org/abs/1908.09395</td>\n      <td>https://github.com/cookielee77/DAST</td>\n    </tr>\n    <tr>\n      <th>33</th>\n      <td>2019-10-01</td>\n      <td>Structuring latent spaces for stylized respons...</td>\n      <td>EMNLP</td>\n      <td>Xiang Gao, *Yizhe Zhang*, Sungjin Lee, Mi...</td>\n      <td>https://arxiv.org/abs/1909.05361</td>\n      <td>https://github.com/golsun/StyleFusion</td>\n    </tr>\n    <tr>\n      <th>34</th>\n      <td>2020-10-01</td>\n      <td>Contextual Re-Ranking with Behavior Aware Tran...</td>\n      <td>SIGIR</td>\n      <td>Chen Qu, Chenyan Xiong, *Yizhe Zhang*, Co...</td>\n      <td>http://ciir-publications.cs.umass.edu/getpdf.p...</td>\n      <td>NONE</td>\n    </tr>\n    <tr>\n      <th>35</th>\n      <td>2020-10-01</td>\n      <td>Sequence Generation with Optimal-Transport-Enh...</td>\n      <td>AAAI</td>\n      <td>Liqun Chen, Ke Bai, Chenyang Tao, *Yizhe ...</td>\n      <td>http://people.ee.duke.edu/~lcarin/AAAI-ChenLQ....</td>\n      <td>NONE</td>\n    </tr>\n    <tr>\n      <th>36</th>\n      <td>2020-10-01</td>\n      <td>Complementary Auxiliary Classifiers for Label-...</td>\n      <td>AAAI</td>\n      <td>Yuan Li, Chunyuan Li, *Yizhe Zhang*, Xiuj...</td>\n      <td>http://people.ee.duke.edu/~lcarin/AAAI_LiY_682...</td>\n      <td>NONE</td>\n    </tr>\n    <tr>\n      <th>37</th>\n      <td>2020-10-01</td>\n      <td>Adaptive Correlated Monte Carlo for Contextual...</td>\n      <td>ICLR</td>\n      <td>Xinjie Fan, *Yizhe Zhang*, Zhendong Wang,...</td>\n      <td>https://openreview.net/forum?id=r1lOgyrKDS</td>\n      <td>NONE</td>\n    </tr>\n    <tr>\n      <th>38</th>\n      <td>2020-10-01</td>\n      <td>Improving Disentangled Text Representation Lea...</td>\n      <td>ACL</td>\n      <td>Pengyu Cheng, Renqiang Min, Dinghan Shen,...</td>\n      <td>http://people.ee.duke.edu/~lcarin/Pengyu_ACL_2...</td>\n      <td>NONE</td>\n    </tr>\n    <tr>\n      <th>39</th>\n      <td>2020-10-01</td>\n      <td>INSET: Sentence Infilling with Inter-sententia...</td>\n      <td>ACL</td>\n      <td>Yichen Huang, *Yizhe Zhang*, Oussama Elac...</td>\n      <td>https://arxiv.org/abs/1911.03892</td>\n      <td>https://github.com/dreasysnail/INSET</td>\n    </tr>\n    <tr>\n      <th>40</th>\n      <td>2020-10-01</td>\n      <td>DialoGPT: Large-Scale Generative Pre-training ...</td>\n      <td>system demonstration, ACL</td>\n      <td>*Yizhe Zhang*, Siqi Sun, Michel Galley, Y...</td>\n      <td>https://arxiv.org/abs/1911.00536</td>\n      <td>https://github.com/microsoft/DialoGPT</td>\n    </tr>\n    <tr>\n      <th>41</th>\n      <td>2020-12-01</td>\n      <td>Consistent Dialogue Generation with Self-super...</td>\n      <td>ArXiv preprint</td>\n      <td>*Yizhe Zhang*, Xiang Gao, Sungjin Lee, Ch...</td>\n      <td>https://arxiv.org/abs/1903.05759</td>\n      <td>https://github.com/dreasysnail/CoCon</td>\n    </tr>\n    <tr>\n      <th>42</th>\n      <td>2020-12-01</td>\n      <td>Unsupervised Common Question Generation from M...</td>\n      <td>ArXiv preprint</td>\n      <td>Woon Sang Cho, *Yizhe Zhang*, Sudha Rao, ...</td>\n      <td>https://arxiv.org/abs/1911.00536</td>\n      <td>NONE</td>\n    </tr>\n    <tr>\n      <th>43</th>\n      <td>2020-12-01</td>\n      <td>POINTER: Constrained Text Generation via Inser...</td>\n      <td>ArXiv preprint</td>\n      <td>*Yizhe Zhang*, Guoyin Wang, Chunyuan Li, ...</td>\n      <td>https://arxiv.org/abs/2005.00558</td>\n      <td>NONE</td>\n    </tr>\n    <tr>\n      <th>44</th>\n      <td>2020-12-01</td>\n      <td>A Controllable Model of Grounded Response Gene...</td>\n      <td>ArXiv preprint</td>\n      <td>Zeqiu Wu, Michel Galley, Chris Brockett, ...</td>\n      <td>https://arxiv.org/abs/2005.00613</td>\n      <td>NONE</td>\n    </tr>\n    <tr>\n      <th>45</th>\n      <td>2020-12-01</td>\n      <td>Contextual Text Style Transfer.</td>\n      <td>ArXiv preprint</td>\n      <td>Yu Cheng, Zhe Gan, *Yizhe Zhang*, Oussama...</td>\n      <td>https://arxiv.org/abs/2005.00136</td>\n      <td>NONE</td>\n    </tr>\n    <tr>\n      <th>46</th>\n      <td>2020-12-01</td>\n      <td>Optimus: Organizing Sentences via Pre-trained ...</td>\n      <td>ArXiv preprint</td>\n      <td>Chunyuan Li, Xiang Gao, Yuan Li, Xiujun L...</td>\n      <td>https://arxiv.org/abs/2004.04092</td>\n      <td>https://github.com/ChunyuanLI/Optimus</td>\n    </tr>\n  </tbody>\n</table>\n</div>",
      "text/plain": "      pub_date                                              title  \\\n0   2012-10-01  Composition-based Classification of Short Meta...   \n1   2012-10-01  CRF-based Transcription Factor Binding Site Fi...   \n2   2015-10-01  MOST+: a Motif Finding Approach Combining Geno...   \n3   2015-10-01  Learning Dictionary with Spatial and Inter-dic...   \n4   2016-10-01                  Laplacian Hamiltonian Monte Carlo   \n5   2016-10-01                    Dynamic Poisson Factor Analysis   \n6   2016-10-01  Triply Stochastic Variational Inference for No...   \n7   2016-10-01  Bayesian Dictionary Learning with Gaussian Pro...   \n8   2016-10-01  Learning a Hybrid Architecture for Sequence Re...   \n9   2016-10-01          Generating Text via Adversarial Training.   \n10  2016-10-01     Stochastic Gradient MCMC with Stale Gradients.   \n11  2016-10-01  Towards Unifying Hamiltonian Monte Carlo and S...   \n12  2017-10-01  Adversarial Feature Matching for Text Generation.   \n13  2017-10-01        Stochastic Gradient Monomial Gamma Sampler.   \n14  2017-10-01          Triangle Generative Adversarial Networks.   \n15  2017-10-01  Deconvolutional Paragraph Representation Learn...   \n16  2018-10-01  Zero-Shot Learning via Class-Conditioned Deep ...   \n17  2018-10-01  Deconvolutional Latent-Variable Model for Text...   \n18  2018-10-01  Joint Embedding of Words and Labels for Text C...   \n19  2018-10-01  On Simple Word-Embedding-Based Models and Asso...   \n20  2018-10-01  Multi-Domain Joint Distribution Learning with ...   \n21  2018-10-01  Adversarial Text Generation via Feature-Mover'...   \n22  2018-10-01  Generating Informative and Diverse Conversatio...   \n23  2019-10-01  Improving Sequence-to-Sequence Learning via Op...   \n24  2019-10-01  Improving Sequence-to-SequeJointly Optimizing ...   \n25  2019-10-01  Towards Generating Long and Coherent Text with...   \n26  2019-10-01  Improving Textual Network Embedding with Globa...   \n27  2019-10-01  Microsoft ICECAPS: An Open-Source Toolkit for ...   \n28  2019-10-01  Self-Enhanced Inverse Reinforcement Learning f...   \n29  2019-10-01  Unsupervised Dialogue Spectrum Generation for ...   \n30  2019-10-01  Towards coherent and cohesive long-form text g...   \n31  2019-10-01  Generating a Common Question from Multiple Doc...   \n32  2019-10-01               Domain Adaptive Text Style Transfer.   \n33  2019-10-01  Structuring latent spaces for stylized respons...   \n34  2020-10-01  Contextual Re-Ranking with Behavior Aware Tran...   \n35  2020-10-01  Sequence Generation with Optimal-Transport-Enh...   \n36  2020-10-01  Complementary Auxiliary Classifiers for Label-...   \n37  2020-10-01  Adaptive Correlated Monte Carlo for Contextual...   \n38  2020-10-01  Improving Disentangled Text Representation Lea...   \n39  2020-10-01  INSET: Sentence Infilling with Inter-sententia...   \n40  2020-10-01  DialoGPT: Large-Scale Generative Pre-training ...   \n41  2020-12-01  Consistent Dialogue Generation with Self-super...   \n42  2020-12-01  Unsupervised Common Question Generation from M...   \n43  2020-12-01  POINTER: Constrained Text Generation via Inser...   \n44  2020-12-01  A Controllable Model of Grounded Response Gene...   \n45  2020-12-01                    Contextual Text Style Transfer.   \n46  2020-12-01  Optimus: Organizing Sentences via Pre-trained ...   \n\n                                           venue  \\\n0                         Nucleic Acids Research   \n1                                   BMC Genomics   \n2                                   BMC Genomics   \n3      Workshop on representation learning, NIPS   \n4                                           ECML   \n5                                           ICDM   \n6                                           ICDM   \n7                                          IJCAI   \n8                                           AAAI   \n9         Workshop on Adversarial Training, NIPS   \n10                                          NIPS   \n11                                          NIPS   \n12                                          ICML   \n13                                          ICML   \n14                                          NIPS   \n15                                          NIPS   \n16                                          AAAI   \n17                                          AAAI   \n18                                           ACL   \n19                                           ACL   \n20                                          ICML   \n21                                          NIPS   \n22                                          NIPS   \n23                                          ICLR   \n24                                         NAACL   \n25                                           ACL   \n26                                           ACL   \n27                     system demonstration, ACL   \n28  Imitation, Intent, and Interaction(I3), ICML   \n29              SIGDIAL(*Best paper nomination*)   \n30    Workshop on Narrative Understanding, NAACL   \n31                                   WNGT, EMNLP   \n32                                         EMNLP   \n33                                         EMNLP   \n34                                         SIGIR   \n35                                          AAAI   \n36                                          AAAI   \n37                                          ICLR   \n38                                           ACL   \n39                                           ACL   \n40                     system demonstration, ACL   \n41                                ArXiv preprint   \n42                                ArXiv preprint   \n43                                ArXiv preprint   \n44                                ArXiv preprint   \n45                                ArXiv preprint   \n46                                ArXiv preprint   \n\n                                             citation  \\\n0       Jiemeng Liu, Haifeng Wang, Hongxing Yang, ...   \n1       Yupeng He, *Yizhe Zhang*, Guangyong Zheng ...   \n2           *Yizhe Zhang*, Yupeng He and Chaochun Wei   \n3       *Yizhe Zhang*, Ricardo Henao, Chunyuan Li,...   \n4       *Yizhe Zhang*, Changyou Chen, Ricardo Hena...   \n5       *Yizhe Zhang*, Changyou Chen, Ricardo Hena...   \n6       Kai Fan, *Yizhe Zhang*, Lawrence Carin, Ka...   \n7       *Yizhe Zhang*, Ricardo Henao, Chunyuan Li,...   \n8       *Yizhe Zhang*, Ricardo Henao, Jianling Zho...   \n9              *Yizhe Zhang*, Zhe Gan, Lawrence Carin   \n10      Changyou Chen, Nan Ding, Chunyuan Li, *Yiz...   \n11      *Yizhe Zhang*, Xiangyu Wang, Changyou Chen...   \n12       *Yizhe Zhang*, Zhe Gan, Kai Fan, Zhi Chen...   \n13       *Yizhe Zhang*, Changyou Chen, Zhe Gan, Ri...   \n14       Zhe Gan, Liqun Chen, Weiyao Wang, Yunchen...   \n15       *Yizhe Zhang*, Dinghan Shen, Guoyin Wang,...   \n16       Wenlin Wang, Yunchen Pu, Vinay Kumar Verm...   \n17       Dinghan Shen, *Yizhe Zhang*, Ricardo Hena...   \n18       Guoyin Wang, Chunyuan Li, Wenlin Wang, *Y...   \n19       Dinghan Shen, Guoyin Wang, Wenlin Wang, M...   \n20       Yunchen Pu, Shuyang Dai, Zhe Gan, Weiyao ...   \n21       Liqun Chen, Shuyang Dai, Chenyang Tao, Di...   \n22       *Yizhe Zhang*, Michel Galley, Jianfeng Ga...   \n23       Liqun Chen, *Yizhe Zhang*, Ruiyi Zhang, C...   \n24       Xiang Gao, Sungjin Lee, *Yizhe Zhang*, Ch...   \n25       Dinghan Shen, Asli Celikyilmaz, *Yizhe Zh...   \n26       Liqun Chen, Guoyin Wang, Chenyang Tao, Di...   \n27       Vighnesh Leonardo Shiv, Chris Quirk, Ansh...   \n28       Ping Yu, Ruiyi Zhang, Chunyuan Li, *Yizhe...   \n29       Xinnuo Xu, *Yizhe Zhang*, Lars Liden and ...   \n30       Woon Sang Cho, Pengchuan Zhang, *Yizhe Zh...   \n31       Woon Sang Cho, *Yizhe Zhang*, Sudha Rao, ...   \n32       Dianqi Li, *Yizhe Zhang*, Zhe Gan, Yu Che...   \n33       Xiang Gao, *Yizhe Zhang*, Sungjin Lee, Mi...   \n34       Chen Qu, Chenyan Xiong, *Yizhe Zhang*, Co...   \n35       Liqun Chen, Ke Bai, Chenyang Tao, *Yizhe ...   \n36       Yuan Li, Chunyuan Li, *Yizhe Zhang*, Xiuj...   \n37       Xinjie Fan, *Yizhe Zhang*, Zhendong Wang,...   \n38       Pengyu Cheng, Renqiang Min, Dinghan Shen,...   \n39       Yichen Huang, *Yizhe Zhang*, Oussama Elac...   \n40       *Yizhe Zhang*, Siqi Sun, Michel Galley, Y...   \n41       *Yizhe Zhang*, Xiang Gao, Sungjin Lee, Ch...   \n42       Woon Sang Cho, *Yizhe Zhang*, Sudha Rao, ...   \n43       *Yizhe Zhang*, Guoyin Wang, Chunyuan Li, ...   \n44       Zeqiu Wu, Michel Galley, Chris Brockett, ...   \n45       Yu Cheng, Zhe Gan, *Yizhe Zhang*, Oussama...   \n46       Chunyuan Li, Xiang Gao, Yuan Li, Xiujun L...   \n\n                                            paper_url  \\\n0         http://www.ncbi.nlm.nih.gov/pubmed/22941634   \n1   http://www.biomedcentral.com/1471-2164/13/S8/S18/   \n2   http://cbb.sjtu.edu.cn/~ccwei/pub/software/MOS...   \n3                                  ./pdf/nips2015.pdf   \n4   https://dl.acm.org/doi/10.1007/978-3-319-46128...   \n5                               ./pdf/dynpfa_icdm.pdf   \n6                                      ./pdf/VSAE.pdf   \n7                                      ./pdf/VSAE.pdf   \n8                           ./pdf/AAAI_2016_zhang.pdf   \n9                           ./pdf/AAAI_2016_zhang.pdf   \n10                   https://arxiv.org/abs/1610.06664   \n11  http://papers.nips.cc/paper/6147-towards-unify...   \n12                   https://arxiv.org/abs/1706.03850   \n13                   https://arxiv.org/abs/1706.01498   \n14                   https://arxiv.org/abs/1709.06548   \n15                   https://arxiv.org/abs/1708.04729   \n16                   https://arxiv.org/abs/1711.05820   \n17                   https://arxiv.org/abs/1709.07109   \n18                   https://arxiv.org/abs/1805.04174   \n19                   https://arxiv.org/abs/1805.09843   \n20                   https://arxiv.org/abs/1806.02978   \n21                   https://arxiv.org/abs/1809.06297   \n22                   https://arxiv.org/abs/1809.05972   \n23         https://openreview.net/forum?id=S1xtAjR5tX   \n24                   https://arxiv.org/abs/1902.11205   \n25                   https://arxiv.org/abs/1902.00154   \n26                   https://arxiv.org/abs/1906.01840   \n27      https://www.aclweb.org/anthology/P19-3021.pdf   \n28  https://drive.google.com/drive/folders/1Akd-zS...   \n29      https://www.aclweb.org/anthology/W19-5919.pdf   \n30         https://www.aclweb.org/anthology/W19-2401/   \n31         https://www.aclweb.org/anthology/D19-5604/   \n32                   https://arxiv.org/abs/1908.09395   \n33                   https://arxiv.org/abs/1909.05361   \n34  http://ciir-publications.cs.umass.edu/getpdf.p...   \n35  http://people.ee.duke.edu/~lcarin/AAAI-ChenLQ....   \n36  http://people.ee.duke.edu/~lcarin/AAAI_LiY_682...   \n37         https://openreview.net/forum?id=r1lOgyrKDS   \n38  http://people.ee.duke.edu/~lcarin/Pengyu_ACL_2...   \n39                   https://arxiv.org/abs/1911.03892   \n40                   https://arxiv.org/abs/1911.00536   \n41                   https://arxiv.org/abs/1903.05759   \n42                   https://arxiv.org/abs/1911.00536   \n43                   https://arxiv.org/abs/2005.00558   \n44                   https://arxiv.org/abs/2005.00613   \n45                   https://arxiv.org/abs/2005.00136   \n46                   https://arxiv.org/abs/2004.04092   \n\n                                             code_url  \n0                       http://metacv.sourceforge.net  \n1   http://cbb.sjtu.edu.cn/~ccwei/pub/software/CTF...  \n2   http://cbb.sjtu.edu.cn/~ccwei/pub/software/MOS...  \n3                                                NONE  \n4                                                NONE  \n5                            ./files/dpfa_release.zip  \n6                            ./files/dpfa_release.zip  \n7                                    ./files/gpfa.zip  \n8                                ./pdf/AAAI_suppl.zip  \n9                                                NONE  \n10              https://github.com/cchangyou/S2G-MCMC  \n11               https://github.com/dreasysnail/MGHMC  \n12      https://github.com/dreasysnail/textGAN_public  \n13               https://github.com/dreasysnail/SGMGT  \n14      https://github.com/LiqunChen0606/Triangle-GAN  \n15      https://github.com/dreasysnail/textCNN_public  \n16                                               NONE  \n17                                               NONE  \n18                 https://github.com/guoyinwang/LEAM  \n19                https://github.com/dinghanshen/SWEM  \n20  https://zhegan27.github.io/Papers/JointGAN_sli...  \n21                                               NONE  \n22        https://github.com/dreasysnail/converse_GAN  \n23        https://github.com/LiqunChen0606/OT-Seq2Seq  \n24              https://github.com/golsun/SpaceFusion  \n25                                               NONE  \n26                                               NONE  \n27               https://github.com/microsoft/icecaps  \n28                                               NONE  \n29                                               NONE  \n30                                               NONE  \n31                                               NONE  \n32                https://github.com/cookielee77/DAST  \n33              https://github.com/golsun/StyleFusion  \n34                                               NONE  \n35                                               NONE  \n36                                               NONE  \n37                                               NONE  \n38                                               NONE  \n39               https://github.com/dreasysnail/INSET  \n40              https://github.com/microsoft/DialoGPT  \n41               https://github.com/dreasysnail/CoCon  \n42                                               NONE  \n43                                               NONE  \n44                                               NONE  \n45                                               NONE  \n46              https://github.com/ChunyuanLI/Optimus  "
     },
     "metadata": {},
     "execution_count": 3
    }
   ],
   "source": [
    "publications = pd.read_csv(\"publications.tsv\", sep=\"\\t\", header=0)\n",
    "publications\n"
   ]
  },
  {
   "cell_type": "markdown",
   "metadata": {},
   "source": [
    "## Escape special characters\n",
    "\n",
    "YAML is very picky about how it takes a valid string, so we are replacing single and double quotes (and ampersands) with their HTML encoded equivilents. This makes them look not so readable in raw format, but they are parsed and rendered nicely."
   ]
  },
  {
   "cell_type": "code",
   "execution_count": 1,
   "metadata": {
    "collapsed": true,
    "deletable": true,
    "editable": true
   },
   "outputs": [],
   "source": [
    "html_escape_table = {\n",
    "    \"&\": \"&amp;\",\n",
    "    '\"': \"&quot;\",\n",
    "    \"'\": \"&apos;\"\n",
    "    }\n",
    "\n",
    "def html_escape(text):\n",
    "    \"\"\"Produce entities within text.\"\"\"\n",
    "    return \"\".join(html_escape_table.get(c,c) for c in text)"
   ]
  },
  {
   "cell_type": "code",
   "execution_count": 4,
   "metadata": {},
   "outputs": [],
   "source": [
    "import re\n",
    "def replace_bold(text):\n",
    "    \"\"\"Produce entities within text.\"\"\"\n",
    "    return re.sub(r'\\*(.*)\\*', r'<b>\\1</b>', text)"
   ]
  },
  {
   "cell_type": "markdown",
   "metadata": {},
   "source": [
    "## Creating the markdown files\n",
    "\n",
    "This is where the heavy lifting is done. This loops through all the rows in the TSV dataframe, then starts to concatentate a big string (```md```) that contains the markdown for each type. It does the YAML metadata first, then does the description for the individual page."
   ]
  },
  {
   "cell_type": "code",
   "execution_count": 5,
   "metadata": {
    "collapsed": false,
    "deletable": true,
    "editable": true
   },
   "outputs": [],
   "source": [
    "import os\n",
    "for row, item in publications.iterrows():\n",
    "    url_slug = \"-\".join(item.title.strip(\".\").split())\n",
    "    md_filename = str(item.pub_date) + \"-\" + url_slug + \".md\"\n",
    "    html_filename = str(item.pub_date) + \"-\" + url_slug\n",
    "    year = item.pub_date[:4]\n",
    "    item.citation = item.citation.lstrip()\n",
    "    \n",
    "    ## YAML variables\n",
    "    \n",
    "    md = \"---\\ntitle: \\\"\"   + item.title + '\"\\n'\n",
    "    \n",
    "    md += \"\"\"collection: publications\"\"\"\n",
    "    \n",
    "    md += \"\"\"\\npermalink: /publication/\"\"\" + html_filename\n",
    "    \n",
    "    # if len(str(item.excerpt)) > 5:\n",
    "    #     md += \"\\nexcerpt: '\" + html_escape(item.excerpt) + \"'\"\n",
    "    \n",
    "    md += \"\\ndate: \" + str(item.pub_date) \n",
    "    \n",
    "    md += \"\\nvenue: '\" + html_escape(replace_bold(item.venue)) + \"'\"\n",
    "    \n",
    "    if len(str(item.paper_url)) > 5:\n",
    "        md += \"\\npaperurl: '\" + item.paper_url + \"'\"\n",
    "    \n",
    "    md += \"\\ncitation: '\" + html_escape(replace_bold(item.citation)) + \"'\"\n",
    "\n",
    "    if len(str(item.code_url)) > 5:\n",
    "        md += \"\\ncode: '\" + item.code_url + \"'\"\n",
    "    \n",
    "    md += \"\\n---\"\n",
    "    \n",
    "    ## Markdown description for individual page\n",
    "        \n",
    "    # if len(str(item.excerpt)) > 5:\n",
    "    #     md += \"\\n\" + html_escape(item.excerpt) + \"\\n\"\n",
    "    \n",
    "    if len(str(item.paper_url)) > 5:\n",
    "        md += \"\\n[Download paper here](\" + item.paper_url + \")\\n\" \n",
    "        \n",
    "    md += \"\\nRecommended citation: \" + item.citation\n",
    "    \n",
    "    md_filename = os.path.basename(md_filename)\n",
    "       \n",
    "    with open(\"../_publications/\" + md_filename, 'w') as f:\n",
    "        f.write(md)"
   ]
  },
  {
   "cell_type": "markdown",
   "metadata": {},
   "source": [
    "These files are in the publications directory, one directory below where we're working from."
   ]
  },
  {
   "cell_type": "code",
   "execution_count": null,
   "metadata": {
    "collapsed": false,
    "deletable": true,
    "editable": true,
    "tags": []
   },
   "outputs": [],
   "source": [
    "!ls ../_publications/"
   ]
  },
  {
   "cell_type": "code",
   "execution_count": null,
   "metadata": {
    "collapsed": false,
    "deletable": true,
    "editable": true,
    "tags": []
   },
   "outputs": [],
   "source": [
    "!cat ../_publications/2009-10-01-paper-title-number-1.md"
   ]
  },
  {
   "cell_type": "code",
   "execution_count": null,
   "metadata": {
    "collapsed": true,
    "deletable": true,
    "editable": true
   },
   "outputs": [],
   "source": []
  },
  {
   "cell_type": "code",
   "execution_count": null,
   "metadata": {},
   "outputs": [],
   "source": []
  }
 ],
 "metadata": {
  "kernelspec": {
   "display_name": "Python 3.7.3 64-bit",
   "language": "python",
   "name": "python37364bit939a80a02e064a8da34e54dde9a1f3b1"
  },
  "language_info": {
   "codemirror_mode": {
    "name": "ipython",
    "version": 3
   },
   "file_extension": ".py",
   "mimetype": "text/x-python",
   "name": "python",
   "nbconvert_exporter": "python",
   "pygments_lexer": "ipython3",
   "version": "3.7.3-final"
  }
 },
 "nbformat": 4,
 "nbformat_minor": 0
}